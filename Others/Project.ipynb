{
 "cells": [
  {
   "cell_type": "code",
   "execution_count": 9,
   "metadata": {},
   "outputs": [],
   "source": [
    "import numpy as np"
   ]
  },
  {
   "cell_type": "code",
   "execution_count": 10,
   "metadata": {},
   "outputs": [],
   "source": [
    "L = 100000            \n",
    "m = 1000000\n",
    "T = 3\n",
    "n = 30\n",
    "a = 1\n",
    "h = L/m\n",
    "k = T/n\n",
    "lam = a**2*k/h**2\n",
    "\n",
    "l=np.array([0.0,]*m,dtype=\"float64\")\n",
    "u=np.array([0.0,]*m,dtype=\"float64\")\n",
    "z=np.array([0.0,]*m,dtype=\"float64\")\n",
    "w=np.array([0.0,]*m,dtype=\"float64\")\n",
    "for i in range(30):\n",
    "    w[i] = -1"
   ]
  },
  {
   "cell_type": "code",
   "execution_count": 11,
   "metadata": {},
   "outputs": [],
   "source": [
    "l[0] = 1 + 2 * lam;\n",
    "u[0] = -lam / l[0];"
   ]
  },
  {
   "cell_type": "code",
   "execution_count": 12,
   "metadata": {},
   "outputs": [],
   "source": [
    "for i in range(1,m-2):\n",
    "    l[i] = 1 + 2 * lam + lam * u[i - 1]\n",
    "    u[i] = -lam / l[i]\n",
    "l[m-2] = 1 + 2 * lam + lam * u[m - 3]"
   ]
  },
  {
   "cell_type": "code",
   "execution_count": 13,
   "metadata": {},
   "outputs": [
    {
     "data": {
      "text/plain": [
       "[3, 2, 1, 0]"
      ]
     },
     "execution_count": 13,
     "metadata": {},
     "output_type": "execute_result"
    }
   ],
   "source": [
    "list(range(3,-1,-1))"
   ]
  },
  {
   "cell_type": "code",
   "execution_count": 7,
   "metadata": {},
   "outputs": [
    {
     "name": "stdout",
     "output_type": "stream",
     "text": [
      "t =  3.0\n",
      "x =  0.1 w[ 1 ] =  0.9817748831127753\n",
      "t =  3.0\n",
      "x =  0.2 w[ 2 ] =  0.9636237259028473\n",
      "t =  3.0\n",
      "x =  0.30000000000000004 w[ 3 ] =  0.9456199863990057\n",
      "t =  3.0\n",
      "x =  0.4 w[ 4 ] =  0.9278361240922003\n",
      "t =  3.0\n",
      "x =  0.5 w[ 5 ] =  0.9103431125067263\n",
      "t =  3.0\n",
      "x =  0.6000000000000001 w[ 6 ] =  0.8932099658184736\n",
      "t =  3.0\n",
      "x =  0.7000000000000001 w[ 7 ] =  0.8765032839367088\n",
      "t =  3.0\n",
      "x =  0.8 w[ 8 ] =  0.8602868202430245\n",
      "t =  3.0\n",
      "x =  0.9 w[ 9 ] =  0.8446210759087637\n",
      "t =  3.0\n",
      "x =  1.0 w[ 10 ] =  0.8295629243944079\n",
      "t =  3.0\n",
      "x =  1.1 w[ 11 ] =  0.8151652693757216\n",
      "t =  3.0\n",
      "x =  1.2000000000000002 w[ 12 ] =  0.8014767389470654\n",
      "t =  3.0\n",
      "x =  1.3 w[ 13 ] =  0.7885414185278856\n",
      "t =  3.0\n",
      "x =  1.4000000000000001 w[ 14 ] =  0.7763986244499881\n",
      "t =  3.0\n",
      "x =  1.5 w[ 15 ] =  0.7650827197371106\n",
      "t =  3.0\n",
      "x =  1.6 w[ 16 ] =  0.7546229731110132\n",
      "t =  3.0\n",
      "x =  1.7000000000000002 w[ 17 ] =  0.7450434617763272\n",
      "t =  3.0\n",
      "x =  1.8 w[ 18 ] =  0.7363630180562573\n",
      "t =  3.0\n",
      "x =  1.9000000000000001 w[ 19 ] =  0.728595219479268\n",
      "t =  3.0\n",
      "x =  2.0 w[ 20 ] =  0.7217484214592157\n",
      "t =  3.0\n",
      "x =  2.1 w[ 21 ] =  0.7158258312738147\n",
      "t =  3.0\n",
      "x =  2.2 w[ 22 ] =  0.7108256216341964\n",
      "t =  3.0\n",
      "x =  2.3000000000000003 w[ 23 ] =  0.7067410817565474\n",
      "t =  3.0\n",
      "x =  2.4000000000000004 w[ 24 ] =  0.7035608034996974\n",
      "t =  3.0\n",
      "x =  2.5 w[ 25 ] =  0.7012688998238157\n",
      "t =  3.0\n",
      "x =  2.6 w[ 26 ] =  0.6998452525581205\n",
      "t =  3.0\n",
      "x =  2.7 w[ 27 ] =  0.6992657862421174\n",
      "t =  3.0\n",
      "x =  2.8000000000000003 w[ 28 ] =  0.6995027646270446\n",
      "t =  3.0\n",
      "x =  2.9000000000000004 w[ 29 ] =  0.7005251062928959\n",
      "t =  3.0\n",
      "x =  3.0 w[ 30 ] =  0.7022987157519271\n",
      "t =  3.0\n",
      "x =  3.1 w[ 31 ] =  0.7047868263714991\n"
     ]
    }
   ],
   "source": [
    "for i in range(n):\n",
    "    t = (i + 1) * k\n",
    "    z[0] = w[0] / l[0]\n",
    "    for j in range(1,m-1):\n",
    "        z[j] = (w[j]+lam*z[j-1])/l[j];\n",
    "    w[m-2] = z[m-2];\n",
    "    for j in range(m-3,-1,-1):\n",
    "        w[j] = z[j]-u[j]*w[j+1]\n",
    "    for j in range(0,m-1):\n",
    "        x = (j+1)*h;\n",
    "        if(int(t)==3):\n",
    "            print(\"t = \", t)\n",
    "            print(\"x = \",x,\"w[\",j+1,\"] = \",w[j]+1)\n",
    "        if(x>3):\n",
    "            break"
   ]
  },
  {
   "cell_type": "code",
   "execution_count": 77,
   "metadata": {},
   "outputs": [
    {
     "data": {
      "text/plain": [
       "30"
      ]
     },
     "execution_count": 77,
     "metadata": {},
     "output_type": "execute_result"
    }
   ],
   "source": [
    "len(w)"
   ]
  },
  {
   "cell_type": "code",
   "execution_count": null,
   "metadata": {},
   "outputs": [],
   "source": []
  }
 ],
 "metadata": {
  "kernelspec": {
   "display_name": "Python 3",
   "language": "python",
   "name": "python3"
  },
  "language_info": {
   "codemirror_mode": {
    "name": "ipython",
    "version": 3
   },
   "file_extension": ".py",
   "mimetype": "text/x-python",
   "name": "python",
   "nbconvert_exporter": "python",
   "pygments_lexer": "ipython3",
   "version": "3.7.4"
  }
 },
 "nbformat": 4,
 "nbformat_minor": 4
}
