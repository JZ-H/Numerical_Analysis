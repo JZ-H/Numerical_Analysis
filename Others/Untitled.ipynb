{
 "cells": [
  {
   "cell_type": "code",
   "execution_count": 70,
   "metadata": {},
   "outputs": [],
   "source": [
    "from math import *\n",
    "import numpy as np"
   ]
  },
  {
   "cell_type": "code",
   "execution_count": 71,
   "metadata": {},
   "outputs": [],
   "source": [
    "def F(x1,x2,x3):\n",
    "    y1 = 3*x1-cos(x2*x3)-1/2\n",
    "    y2 = 4*x1**2-625*x2**2+2*x2-1\n",
    "    y3 = e**(-x1*x2)+20*x3+10*pi/3-1\n",
    "    return np.array([y1,y2,y3],dtype = \"float64\")"
   ]
  },
  {
   "cell_type": "code",
   "execution_count": 72,
   "metadata": {},
   "outputs": [],
   "source": [
    "def J(x1,x2,x3):\n",
    "    y11 = 3\n",
    "    y12 = x3*sin(x2*x3)\n",
    "    y13 = x2*sin(x2*x3)\n",
    "    y21 = 8*x1\n",
    "    y22 = 2-1250*x2\n",
    "    y23 = 0\n",
    "    y31 = -x2*e**(-x1*x2)\n",
    "    y32 = -x1*e**(-x1*x2)\n",
    "    y33 = 20\n",
    "    return np.array([[y11,y12,y13],\n",
    "                     [y21,y22,y23],\n",
    "                     [y31,y32,y33]])"
   ]
  },
  {
   "cell_type": "code",
   "execution_count": 73,
   "metadata": {},
   "outputs": [],
   "source": [
    "x=np.array([0.0,0.0,0.0],dtype=\"float64\")\n",
    "for i in range(2):\n",
    "    F_V=F(x[0],x[1],x[2])\n",
    "    J_M=J(x[0],x[1],x[2])\n",
    "    x = x-np.dot(np.array(np.matrix(J_M).I),F_V)"
   ]
  },
  {
   "cell_type": "code",
   "execution_count": 74,
   "metadata": {},
   "outputs": [
    {
     "data": {
      "text/plain": [
       "array([ 0.50016669,  0.25080364, -0.51738743])"
      ]
     },
     "execution_count": 74,
     "metadata": {},
     "output_type": "execute_result"
    }
   ],
   "source": [
    "x"
   ]
  },
  {
   "cell_type": "code",
   "execution_count": 82,
   "metadata": {},
   "outputs": [],
   "source": [
    "def F2(x1,x2,x3):\n",
    "    y1 = x1**2+x2-37\n",
    "    y2 = x1-x2**2-5\n",
    "    y3 = x1+x2+x3-3\n",
    "    return np.array([y1,y2,y3],dtype = \"float64\")\n",
    "def J2(x1,x2,x3):\n",
    "    y11 = 2*x1\n",
    "    y12 = 1\n",
    "    y13 = 0\n",
    "    y21 = 1\n",
    "    y22 = -2*x2\n",
    "    y23 = 0\n",
    "    y31 = 1\n",
    "    y32 = 1\n",
    "    y33 = 1\n",
    "    return np.array([[y11,y12,y13],\n",
    "                     [y21,y22,y23],\n",
    "                     [y31,y32,y33]])"
   ]
  },
  {
   "cell_type": "code",
   "execution_count": 83,
   "metadata": {},
   "outputs": [],
   "source": [
    "x2=np.array([0.0,0.0,0.0],dtype=\"float64\")\n",
    "for i in range(2):\n",
    "    F_V2=F2(x2[0],x2[1],x2[2])\n",
    "    J_M2=J2(x2[0],x2[1],x2[2])\n",
    "    x2 = x2-np.dot(np.array(np.matrix(J_M2).I),F_V2)"
   ]
  },
  {
   "cell_type": "code",
   "execution_count": 84,
   "metadata": {},
   "outputs": [
    {
     "data": {
      "text/plain": [
       "array([  4.35087719,  18.49122807, -19.84210526])"
      ]
     },
     "execution_count": 84,
     "metadata": {},
     "output_type": "execute_result"
    }
   ],
   "source": [
    "x2"
   ]
  }
 ],
 "metadata": {
  "kernelspec": {
   "display_name": "Python 3",
   "language": "python",
   "name": "python3"
  },
  "language_info": {
   "codemirror_mode": {
    "name": "ipython",
    "version": 3
   },
   "file_extension": ".py",
   "mimetype": "text/x-python",
   "name": "python",
   "nbconvert_exporter": "python",
   "pygments_lexer": "ipython3",
   "version": "3.7.4"
  }
 },
 "nbformat": 4,
 "nbformat_minor": 4
}
